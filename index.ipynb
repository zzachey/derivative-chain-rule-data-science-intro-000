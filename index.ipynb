{
 "cells": [
  {
   "cell_type": "markdown",
   "metadata": {},
   "source": [
    "# The chain rule"
   ]
  },
  {
   "cell_type": "markdown",
   "metadata": {},
   "source": [
    "### Introduction"
   ]
  },
  {
   "cell_type": "markdown",
   "metadata": {},
   "source": [
    "So far we have seen that the derivative of a function is the instantaneous rate of change of that function.  In other words, how does a function's output change as we change one of the variables.  In this lesson, we will learn about the chain rule, which allows us to see how a function's output change as we change a variable that function does not directly depend on.  The chain rule may seem complicated, but it is just a matter of following the prescribed procedure.  Learning about the chain rule will allow us to take the derivative of more complicated functions that we will encounter in machine learning."
   ]
  },
  {
   "cell_type": "markdown",
   "metadata": {},
   "source": [
    "### The chain rule"
   ]
  },
  {
   "cell_type": "markdown",
   "metadata": {},
   "source": [
    "Ok, now let's talk about the chain rule.  Imagine that we would like to take the derivative of the following function:\n",
    "\n",
    "$$f(x) = (.5x + 3)^2 $$ \n",
    "\n",
    "Doing something like that can be pretty tricky right off the bat.  Lucky for us, we can use the chain rule.  The chain rule is essentially a trick that can be applied when our functions get complicated.  The first step is using functional composition to break our function down. Ok, let's do it.\n",
    "\n",
    "$$g(x) = .5x + 3 $$\n",
    "$$f(x) = (g(x))^2$$"
   ]
  },
  {
   "cell_type": "markdown",
   "metadata": {},
   "source": [
    "Let's turn these two into functions while we are at it."
   ]
  },
  {
   "cell_type": "code",
   "execution_count": 1,
   "metadata": {},
   "outputs": [],
   "source": [
    "def g_of_x(x):\n",
    "    return .5*x + 3"
   ]
  },
  {
   "cell_type": "code",
   "execution_count": 2,
   "metadata": {},
   "outputs": [
    {
     "data": {
      "text/plain": [
       "4.0"
      ]
     },
     "execution_count": 2,
     "metadata": {},
     "output_type": "execute_result"
    }
   ],
   "source": [
    "g_of_x(2) # 4"
   ]
  },
  {
   "cell_type": "code",
   "execution_count": 3,
   "metadata": {},
   "outputs": [],
   "source": [
    "def f_of_x(x):\n",
    "    return (g_of_x(x))**2"
   ]
  },
  {
   "cell_type": "code",
   "execution_count": 4,
   "metadata": {
    "scrolled": true
   },
   "outputs": [
    {
     "data": {
      "text/plain": [
       "16.0"
      ]
     },
     "execution_count": 4,
     "metadata": {},
     "output_type": "execute_result"
    }
   ],
   "source": [
    "f_of_x(2) # 16"
   ]
  },
  {
   "cell_type": "markdown",
   "metadata": {},
   "source": [
    "Looking at both the mathematical and code representations of $f(x)$ and $g(x)$, we can see that the $f(x)$ function wraps the $g(x)$ function.  So let's call $f(x)$ **the outer function**, and $g(x)$ **the inner function**."
   ]
  },
  {
   "cell_type": "markdown",
   "metadata": {},
   "source": [
    "```python\n",
    "\n",
    "def g_of_x(x):\n",
    "    return .5*x + 3\n",
    "    \n",
    "def f_of_x(x): # outer function f(x) \n",
    "    return (g_of_x(x))**2 #inner function g(x)\n",
    "    \n",
    "```"
   ]
  },
  {
   "cell_type": "markdown",
   "metadata": {},
   "source": [
    "Let's plot these two functions."
   ]
  },
  {
   "cell_type": "code",
   "execution_count": 5,
   "metadata": {},
   "outputs": [
    {
     "data": {
      "text/html": [
       "<script>requirejs.config({paths: { 'plotly': ['https://cdn.plot.ly/plotly-latest.min']},});if(!window.Plotly) {{require(['plotly'],function(plotly) {window.Plotly=plotly;});}}</script>"
      ],
      "text/vnd.plotly.v1+html": [
       "<script>requirejs.config({paths: { 'plotly': ['https://cdn.plot.ly/plotly-latest.min']},});if(!window.Plotly) {{require(['plotly'],function(plotly) {window.Plotly=plotly;});}}</script>"
      ]
     },
     "metadata": {},
     "output_type": "display_data"
    },
    {
     "data": {
      "text/html": [
       "<script>requirejs.config({paths: { 'plotly': ['https://cdn.plot.ly/plotly-latest.min']},});if(!window.Plotly) {{require(['plotly'],function(plotly) {window.Plotly=plotly;});}}</script>"
      ],
      "text/vnd.plotly.v1+html": [
       "<script>requirejs.config({paths: { 'plotly': ['https://cdn.plot.ly/plotly-latest.min']},});if(!window.Plotly) {{require(['plotly'],function(plotly) {window.Plotly=plotly;});}}</script>"
      ]
     },
     "metadata": {},
     "output_type": "display_data"
    },
    {
     "data": {
      "application/vnd.plotly.v1+json": {
       "data": [
        {
         "mode": "lines",
         "name": "f(x) = (g(x))^2",
         "text": [],
         "type": "scatter",
         "uid": "c8f53c22-71c2-11e9-9397-5f19a04d9b4e",
         "x": [
          0,
          1,
          2,
          3,
          4,
          5,
          6,
          7,
          8,
          9
         ],
         "y": [
          3,
          3.5,
          4,
          4.5,
          5,
          5.5,
          6,
          6.5,
          7,
          7.5
         ]
        },
        {
         "mode": "lines",
         "name": "g(x) = .5*x",
         "text": [],
         "type": "scatter",
         "uid": "c8f53e5c-71c2-11e9-9397-5f19a04d9b4e",
         "x": [
          0,
          1,
          2,
          3,
          4,
          5,
          6,
          7,
          8,
          9
         ],
         "y": [
          9,
          12.25,
          16,
          20.25,
          25,
          30.25,
          36,
          42.25,
          49,
          56.25
         ]
        }
       ],
       "layout": {}
      },
      "text/html": [
       "<div id=\"92aa8a4d-adf1-4b87-86f1-e82dfd43c422\" style=\"height: 525px; width: 100%;\" class=\"plotly-graph-div\"></div><script type=\"text/javascript\">require([\"plotly\"], function(Plotly) { window.PLOTLYENV=window.PLOTLYENV || {};window.PLOTLYENV.BASE_URL=\"https://plot.ly\";Plotly.newPlot(\"92aa8a4d-adf1-4b87-86f1-e82dfd43c422\", [{\"mode\": \"lines\", \"name\": \"f(x) = (g(x))^2\", \"text\": [], \"x\": [0, 1, 2, 3, 4, 5, 6, 7, 8, 9], \"y\": [3.0, 3.5, 4.0, 4.5, 5.0, 5.5, 6.0, 6.5, 7.0, 7.5], \"type\": \"scatter\", \"uid\": \"c91af30e-71c2-11e9-9397-5f19a04d9b4e\"}, {\"mode\": \"lines\", \"name\": \"g(x) = .5*x\", \"text\": [], \"x\": [0, 1, 2, 3, 4, 5, 6, 7, 8, 9], \"y\": [9.0, 12.25, 16.0, 20.25, 25.0, 30.25, 36.0, 42.25, 49.0, 56.25], \"type\": \"scatter\", \"uid\": \"c91af4f8-71c2-11e9-9397-5f19a04d9b4e\"}], {}, {\"showLink\": true, \"linkText\": \"Export to plot.ly\"})});</script>"
      ],
      "text/vnd.plotly.v1+html": [
       "<div id=\"92aa8a4d-adf1-4b87-86f1-e82dfd43c422\" style=\"height: 525px; width: 100%;\" class=\"plotly-graph-div\"></div><script type=\"text/javascript\">require([\"plotly\"], function(Plotly) { window.PLOTLYENV=window.PLOTLYENV || {};window.PLOTLYENV.BASE_URL=\"https://plot.ly\";Plotly.newPlot(\"92aa8a4d-adf1-4b87-86f1-e82dfd43c422\", [{\"mode\": \"lines\", \"name\": \"f(x) = (g(x))^2\", \"text\": [], \"x\": [0, 1, 2, 3, 4, 5, 6, 7, 8, 9], \"y\": [3.0, 3.5, 4.0, 4.5, 5.0, 5.5, 6.0, 6.5, 7.0, 7.5], \"type\": \"scatter\", \"uid\": \"c91af30e-71c2-11e9-9397-5f19a04d9b4e\"}, {\"mode\": \"lines\", \"name\": \"g(x) = .5*x\", \"text\": [], \"x\": [0, 1, 2, 3, 4, 5, 6, 7, 8, 9], \"y\": [9.0, 12.25, 16.0, 20.25, 25.0, 30.25, 36.0, 42.25, 49.0, 56.25], \"type\": \"scatter\", \"uid\": \"c91af4f8-71c2-11e9-9397-5f19a04d9b4e\"}], {}, {\"showLink\": true, \"linkText\": \"Export to plot.ly\"})});</script>"
      ]
     },
     "metadata": {},
     "output_type": "display_data"
    }
   ],
   "source": [
    "from plotly.offline import iplot, init_notebook_mode\n",
    "init_notebook_mode(connected=True)\n",
    "\n",
    "from graph import trace_values, plot\n",
    "\n",
    "x_values = list(range(0, 10))\n",
    "f_of_x_values = list(map(lambda x: f_of_x(x),x_values))\n",
    "g_of_x_values = list(map(lambda x: g_of_x(x),x_values))\n",
    "f_of_x_trace = trace_values(x_values, f_of_x_values, mode = 'lines', name = 'g(x) = .5*x')\n",
    "g_of_x_trace = trace_values(x_values, g_of_x_values, mode = 'lines', name = 'f(x) = (g(x))^2')\n",
    "plot([g_of_x_trace, f_of_x_trace])"
   ]
  },
  {
   "cell_type": "markdown",
   "metadata": {},
   "source": [
    "Ok, so now that we have a sense of how our function $g(x) = .5x$ and $f(x) = (g(x))^2$ look, let's begin to take derivatives of these functions, starting with the derivative of $g(x)$, the inner function."
   ]
  },
  {
   "cell_type": "markdown",
   "metadata": {},
   "source": [
    "From our rules about derivatives we know that the power rule tells us that the derivative of $g(x) = .5x$ is \n",
    "\n",
    "$$g'(x) = 1*.5x^0 = .5$$"
   ]
  },
  {
   "cell_type": "markdown",
   "metadata": {},
   "source": [
    "Now a trickier question is what is the derivative of, our outer function $f(x)$?  So how does the output of our outer function, $f(x)$, change as we vary $x$.  \n",
    "\n",
    "Notice that the outer function $f(x)$'s output does not directly vary with $x$.  Instead, it's output varies based on the output, $g(x)$, whose output varies with $x$.\n",
    "\n",
    "```python\n",
    "\n",
    "def g_of_x(x):\n",
    "    return .5*x + 3\n",
    "    \n",
    "def f_of_x(x): # outer function f(x) \n",
    "    return (g_of_x(x))**2 #inner function g(x)\n",
    "    \n",
    "```"
   ]
  },
  {
   "cell_type": "markdown",
   "metadata": {},
   "source": [
    "> ** The chain rule**: So in taking the derivative, $\\frac{\\Delta f}{\\Delta x}$ of an outer function, $f(x)$, which depends on an inner function $g(x)$, which depends on $x$, the derivative equals the derivative of the outer function times the derivative of the inner function.  \n",
    "\n",
    "**Or: **"
   ]
  },
  {
   "cell_type": "markdown",
   "metadata": {},
   "source": [
    "$$ f'(g(x)) = f'g(x)*g'(x) $$"
   ]
  },
  {
   "cell_type": "markdown",
   "metadata": {},
   "source": [
    "### Work through our steps"
   ]
  },
  {
   "cell_type": "markdown",
   "metadata": {},
   "source": [
    "Ok, so that is the chain rule.  Let's apply this to our example."
   ]
  },
  {
   "cell_type": "markdown",
   "metadata": {},
   "source": [
    "#### 1. Separate the function into two functions"
   ]
  },
  {
   "cell_type": "markdown",
   "metadata": {},
   "source": [
    "Remember we started with the function $f(x) = (.5x + 3)^2 $.  Then we used functional composition to split this into two.\n",
    "\n",
    "$$g(x) = x^2$$\n",
    "$$f(x) = (g(x))^2$$\n",
    "\n",
    "**2. Find the derivatives, $f'(x)$ and $g'(x)$**\n",
    "\n",
    "* as we know $g'(x) = .5$\n",
    "* and $f'g((x)) = 2*(g(x))^{1} = 2*g(x)$\n",
    "\n",
    "** 3. Substitute into our chain rule **\n",
    "\n",
    "We have: \n",
    "* $ f'(g(x)) = f'g(x)*g'(x) = 2*g(x)*.5 = 1*g(x)$\n",
    "\n",
    "Then substituting for $g(x)$, which we already defined, we have: \n",
    "\n",
    "$f'(g(x)) = g(x) = x^2$\n",
    "\n",
    "So the derivative of the function $f(x) = (.5x + 3)^2 $ is $f'(x) = x^2 $"
   ]
  },
  {
   "cell_type": "markdown",
   "metadata": {},
   "source": [
    "### Say it again"
   ]
  },
  {
   "cell_type": "markdown",
   "metadata": {},
   "source": [
    "The chain rule is allows us to the rate of change of a function that does not directly depend on a variable, $x$, but rather depends on a separate function, that depends on $x$.  For example, the function $f(x)$ below.\n",
    "\n",
    "```python\n",
    "\n",
    "def g_of_x(x):\n",
    "    return .5*x + 3\n",
    "    \n",
    "def f_of_x(x): # outer function f(x) \n",
    "    return (g_of_x(x))**2 #inner function g(x)\n",
    "    \n",
    "```\n",
    "\n",
    "It does not directly depend on $x$, but depends on a function $g(x)$, which varies with different outputs of $x$.  So now we want to take the derivative of $f(x)$.\n",
    "\n",
    "> Remember, taking a derivative means changing a variable $x$ a little, and seeing the change in the output.  The chain rule allows us to solve the problem of seeing the change in output when our function does not **directly** depend on that changing variable, but depends on **a function ** that depends on a variable.  \n",
    "\n",
    "We can take the derivative of a function that indirectly depends on $x$, by taking the derivative of the outer function and multiplying it by the derivative of the inner function, or \n",
    "\n",
    "$f'(x) = f'(g(x))*g'(x)$"
   ]
  },
  {
   "cell_type": "markdown",
   "metadata": {},
   "source": [
    "### Try it again"
   ]
  },
  {
   "cell_type": "markdown",
   "metadata": {},
   "source": [
    "Let's go through some more examples.\n",
    "\n",
    "$$ f(x) = (3x^2 + 10x)^3$$\n",
    "\n",
    "> Stop here, and give this a shot on your own.  The answer will always be waiting for you right below, so you really have nothing to lose.  No one will know if you struggle - and it's kinda the point.\n",
    "\n",
    "**1. Divide the function into two components **\n",
    "\n",
    "$$g(x) = 3x^2 + 10x $$\n",
    "$$f(x) = (g(x))^3$$\n",
    "\n",
    "\n",
    "** 2. Take the derivative of each of the component functions **\n",
    "\n",
    "$$g'(x) = 6x + 10 $$\n",
    "$$f'(x) = 3g(x))^2$$\n",
    "\n",
    "** 3. Substitution **\n",
    "\n",
    "$$f'(x) = f'(g(x))*g'(x) = 3(g(x))^2*(6x+10)$$\n",
    "\n",
    "Then substituting in $g(x) = 3x^2 + 10x $ we have:\n",
    "\n",
    "$$f'(x) = 3*(3x^2 + 10x)^2*(6x+10) $$\n",
    "\n",
    "And we can leave it there for now."
   ]
  },
  {
   "cell_type": "markdown",
   "metadata": {},
   "source": [
    "### Summary"
   ]
  },
  {
   "cell_type": "markdown",
   "metadata": {},
   "source": [
    "In this lesson, we learned about the chain rule.  The chain rule allows us to take the derivative of a function that that comprises of another function that depends on $x$.  We apply the chain by taking the derivative of the outer function and multiplying that by the derivative of the inner function.  We'll see the chain rule in the future when in our work with gradient descent."
   ]
  }
 ],
 "metadata": {
  "kernelspec": {
   "display_name": "Python 3",
   "language": "python",
   "name": "python3"
  },
  "language_info": {
   "codemirror_mode": {
    "name": "ipython",
    "version": 3
   },
   "file_extension": ".py",
   "mimetype": "text/x-python",
   "name": "python",
   "nbconvert_exporter": "python",
   "pygments_lexer": "ipython3",
   "version": "3.6.6"
  }
 },
 "nbformat": 4,
 "nbformat_minor": 2
}
